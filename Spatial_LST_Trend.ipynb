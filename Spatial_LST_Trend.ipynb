{
 "cells": [
  {
   "cell_type": "code",
   "execution_count": 1,
   "id": "44aa2a73-7cc8-4ec6-af47-75c5a8b8fd60",
   "metadata": {},
   "outputs": [],
   "source": [
    "# Libraries\n",
    "import glob, os\n",
    "import rasterio\n",
    "from rasterio.plot import show\n",
    "import numpy as np\n",
    "from matplotlib import pyplot as plt\n",
    "import pandas as pd\n",
    "import pymannkendall as mk "
   ]
  },
  {
   "cell_type": "code",
   "execution_count": 2,
   "id": "05f42d3f-cca8-433d-b710-b1d3f761536b",
   "metadata": {},
   "outputs": [
    {
     "data": {
      "text/plain": [
       "['kolkata_yearly_LST_00.tif',\n",
       " 'kolkata_yearly_LST_01.tif',\n",
       " 'kolkata_yearly_LST_02.tif',\n",
       " 'kolkata_yearly_LST_03.tif',\n",
       " 'kolkata_yearly_LST_04.tif',\n",
       " 'kolkata_yearly_LST_05.tif',\n",
       " 'kolkata_yearly_LST_06.tif',\n",
       " 'kolkata_yearly_LST_07.tif',\n",
       " 'kolkata_yearly_LST_08.tif',\n",
       " 'kolkata_yearly_LST_09.tif',\n",
       " 'kolkata_yearly_LST_10.tif',\n",
       " 'kolkata_yearly_LST_11.tif',\n",
       " 'kolkata_yearly_LST_12.tif',\n",
       " 'kolkata_yearly_LST_13.tif',\n",
       " 'kolkata_yearly_LST_14.tif',\n",
       " 'kolkata_yearly_LST_15.tif',\n",
       " 'kolkata_yearly_LST_16.tif',\n",
       " 'kolkata_yearly_LST_17.tif',\n",
       " 'kolkata_yearly_LST_18.tif',\n",
       " 'kolkata_yearly_LST_19.tif',\n",
       " 'kolkata_yearly_LST_20.tif',\n",
       " 'kolkata_yearly_LST_21.tif']"
      ]
     },
     "execution_count": 2,
     "metadata": {},
     "output_type": "execute_result"
    }
   ],
   "source": [
    "yearly_lst = []\n",
    "\n",
    "os.chdir(\"E:/NIT_RKL/Other_Work/SUHI_sreoshi/Data/kolkata_LST_yearly_2000_03_01_to_2022_02_28\")\n",
    "for file in sorted(glob.glob(\"*.tif\")):\n",
    "    yearly_lst.append(file)\n",
    "yearly_lst"
   ]
  },
  {
   "cell_type": "code",
   "execution_count": 52,
   "id": "79b0e022-fdb3-43c0-b668-dcf457e2ef2b",
   "metadata": {},
   "outputs": [
    {
     "data": {
      "text/plain": [
       "(78, 55)"
      ]
     },
     "execution_count": 52,
     "metadata": {},
     "output_type": "execute_result"
    }
   ],
   "source": [
    "sample_file = rasterio.open(\"E:/NIT_RKL/Other_Work/SUHI_sreoshi/Data/kolkata_LST_yearly_2000_03_01_to_2022_02_28/kolkata_yearly_LST_00.tif\")\n",
    "profile=sample_file.profile\n",
    "test_file = sample_file.read(1)\n",
    "test_file.shape                          "
   ]
  },
  {
   "cell_type": "code",
   "execution_count": 3,
   "id": "218a808c-f3fd-4364-93d0-e4bd024ad3b4",
   "metadata": {},
   "outputs": [
    {
     "data": {
      "text/html": [
       "<div>\n",
       "<style scoped>\n",
       "    .dataframe tbody tr th:only-of-type {\n",
       "        vertical-align: middle;\n",
       "    }\n",
       "\n",
       "    .dataframe tbody tr th {\n",
       "        vertical-align: top;\n",
       "    }\n",
       "\n",
       "    .dataframe thead th {\n",
       "        text-align: right;\n",
       "    }\n",
       "</style>\n",
       "<table border=\"1\" class=\"dataframe\">\n",
       "  <thead>\n",
       "    <tr style=\"text-align: right;\">\n",
       "      <th></th>\n",
       "      <th>0</th>\n",
       "      <th>1</th>\n",
       "      <th>2</th>\n",
       "      <th>3</th>\n",
       "      <th>4</th>\n",
       "      <th>5</th>\n",
       "      <th>6</th>\n",
       "      <th>7</th>\n",
       "      <th>8</th>\n",
       "      <th>9</th>\n",
       "      <th>...</th>\n",
       "      <th>4280</th>\n",
       "      <th>4281</th>\n",
       "      <th>4282</th>\n",
       "      <th>4283</th>\n",
       "      <th>4284</th>\n",
       "      <th>4285</th>\n",
       "      <th>4286</th>\n",
       "      <th>4287</th>\n",
       "      <th>4288</th>\n",
       "      <th>4289</th>\n",
       "    </tr>\n",
       "  </thead>\n",
       "  <tbody>\n",
       "    <tr>\n",
       "      <th>LST_00</th>\n",
       "      <td>NaN</td>\n",
       "      <td>NaN</td>\n",
       "      <td>NaN</td>\n",
       "      <td>NaN</td>\n",
       "      <td>NaN</td>\n",
       "      <td>NaN</td>\n",
       "      <td>NaN</td>\n",
       "      <td>NaN</td>\n",
       "      <td>NaN</td>\n",
       "      <td>NaN</td>\n",
       "      <td>...</td>\n",
       "      <td>NaN</td>\n",
       "      <td>NaN</td>\n",
       "      <td>NaN</td>\n",
       "      <td>NaN</td>\n",
       "      <td>NaN</td>\n",
       "      <td>NaN</td>\n",
       "      <td>NaN</td>\n",
       "      <td>NaN</td>\n",
       "      <td>NaN</td>\n",
       "      <td>NaN</td>\n",
       "    </tr>\n",
       "    <tr>\n",
       "      <th>LST_01</th>\n",
       "      <td>NaN</td>\n",
       "      <td>NaN</td>\n",
       "      <td>NaN</td>\n",
       "      <td>NaN</td>\n",
       "      <td>NaN</td>\n",
       "      <td>NaN</td>\n",
       "      <td>NaN</td>\n",
       "      <td>NaN</td>\n",
       "      <td>NaN</td>\n",
       "      <td>NaN</td>\n",
       "      <td>...</td>\n",
       "      <td>NaN</td>\n",
       "      <td>NaN</td>\n",
       "      <td>NaN</td>\n",
       "      <td>NaN</td>\n",
       "      <td>NaN</td>\n",
       "      <td>NaN</td>\n",
       "      <td>NaN</td>\n",
       "      <td>NaN</td>\n",
       "      <td>NaN</td>\n",
       "      <td>NaN</td>\n",
       "    </tr>\n",
       "    <tr>\n",
       "      <th>LST_02</th>\n",
       "      <td>NaN</td>\n",
       "      <td>NaN</td>\n",
       "      <td>NaN</td>\n",
       "      <td>NaN</td>\n",
       "      <td>NaN</td>\n",
       "      <td>NaN</td>\n",
       "      <td>NaN</td>\n",
       "      <td>NaN</td>\n",
       "      <td>NaN</td>\n",
       "      <td>NaN</td>\n",
       "      <td>...</td>\n",
       "      <td>NaN</td>\n",
       "      <td>NaN</td>\n",
       "      <td>NaN</td>\n",
       "      <td>NaN</td>\n",
       "      <td>NaN</td>\n",
       "      <td>NaN</td>\n",
       "      <td>NaN</td>\n",
       "      <td>NaN</td>\n",
       "      <td>NaN</td>\n",
       "      <td>NaN</td>\n",
       "    </tr>\n",
       "    <tr>\n",
       "      <th>LST_03</th>\n",
       "      <td>NaN</td>\n",
       "      <td>NaN</td>\n",
       "      <td>NaN</td>\n",
       "      <td>NaN</td>\n",
       "      <td>NaN</td>\n",
       "      <td>NaN</td>\n",
       "      <td>NaN</td>\n",
       "      <td>NaN</td>\n",
       "      <td>NaN</td>\n",
       "      <td>NaN</td>\n",
       "      <td>...</td>\n",
       "      <td>NaN</td>\n",
       "      <td>NaN</td>\n",
       "      <td>NaN</td>\n",
       "      <td>NaN</td>\n",
       "      <td>NaN</td>\n",
       "      <td>NaN</td>\n",
       "      <td>NaN</td>\n",
       "      <td>NaN</td>\n",
       "      <td>NaN</td>\n",
       "      <td>NaN</td>\n",
       "    </tr>\n",
       "    <tr>\n",
       "      <th>LST_04</th>\n",
       "      <td>NaN</td>\n",
       "      <td>NaN</td>\n",
       "      <td>NaN</td>\n",
       "      <td>NaN</td>\n",
       "      <td>NaN</td>\n",
       "      <td>NaN</td>\n",
       "      <td>NaN</td>\n",
       "      <td>NaN</td>\n",
       "      <td>NaN</td>\n",
       "      <td>NaN</td>\n",
       "      <td>...</td>\n",
       "      <td>NaN</td>\n",
       "      <td>NaN</td>\n",
       "      <td>NaN</td>\n",
       "      <td>NaN</td>\n",
       "      <td>NaN</td>\n",
       "      <td>NaN</td>\n",
       "      <td>NaN</td>\n",
       "      <td>NaN</td>\n",
       "      <td>NaN</td>\n",
       "      <td>NaN</td>\n",
       "    </tr>\n",
       "  </tbody>\n",
       "</table>\n",
       "<p>5 rows × 4290 columns</p>\n",
       "</div>"
      ],
      "text/plain": [
       "        0     1     2     3     4     5     6     7     8     9     ...  4280  \\\n",
       "LST_00   NaN   NaN   NaN   NaN   NaN   NaN   NaN   NaN   NaN   NaN  ...   NaN   \n",
       "LST_01   NaN   NaN   NaN   NaN   NaN   NaN   NaN   NaN   NaN   NaN  ...   NaN   \n",
       "LST_02   NaN   NaN   NaN   NaN   NaN   NaN   NaN   NaN   NaN   NaN  ...   NaN   \n",
       "LST_03   NaN   NaN   NaN   NaN   NaN   NaN   NaN   NaN   NaN   NaN  ...   NaN   \n",
       "LST_04   NaN   NaN   NaN   NaN   NaN   NaN   NaN   NaN   NaN   NaN  ...   NaN   \n",
       "\n",
       "        4281  4282  4283  4284  4285  4286  4287  4288  4289  \n",
       "LST_00   NaN   NaN   NaN   NaN   NaN   NaN   NaN   NaN   NaN  \n",
       "LST_01   NaN   NaN   NaN   NaN   NaN   NaN   NaN   NaN   NaN  \n",
       "LST_02   NaN   NaN   NaN   NaN   NaN   NaN   NaN   NaN   NaN  \n",
       "LST_03   NaN   NaN   NaN   NaN   NaN   NaN   NaN   NaN   NaN  \n",
       "LST_04   NaN   NaN   NaN   NaN   NaN   NaN   NaN   NaN   NaN  \n",
       "\n",
       "[5 rows x 4290 columns]"
      ]
     },
     "execution_count": 3,
     "metadata": {},
     "output_type": "execute_result"
    }
   ],
   "source": [
    "df = pd.DataFrame()\n",
    "\n",
    "for year in yearly_lst:\n",
    "    \n",
    "    file = rasterio.open(\"E:/NIT_RKL/Other_Work/SUHI_sreoshi/Data/kolkata_LST_yearly_2000_03_01_to_2022_02_28/\"+year)\n",
    "    file = file.read(1)\n",
    "    file = file.reshape(-1)\n",
    "    df[f\"LST_{year[-6:-4]}\"] = file\n",
    "df =  df.T\n",
    "df.head()"
   ]
  },
  {
   "cell_type": "code",
   "execution_count": 4,
   "id": "45757822-6b9c-4b17-b04a-b3e953da6105",
   "metadata": {},
   "outputs": [
    {
     "data": {
      "text/plain": [
       "(22, 4290)"
      ]
     },
     "execution_count": 4,
     "metadata": {},
     "output_type": "execute_result"
    }
   ],
   "source": [
    "df.shape"
   ]
  },
  {
   "cell_type": "code",
   "execution_count": 6,
   "id": "47bb1930-c022-40ba-baeb-fc57f8e9ce85",
   "metadata": {},
   "outputs": [],
   "source": [
    "import warnings\n",
    "warnings.filterwarnings('ignore')"
   ]
  },
  {
   "cell_type": "code",
   "execution_count": 7,
   "id": "e0d276fd-e6ee-45c5-b5f4-a7f545194212",
   "metadata": {},
   "outputs": [
    {
     "data": {
      "text/html": [
       "<div>\n",
       "<style scoped>\n",
       "    .dataframe tbody tr th:only-of-type {\n",
       "        vertical-align: middle;\n",
       "    }\n",
       "\n",
       "    .dataframe tbody tr th {\n",
       "        vertical-align: top;\n",
       "    }\n",
       "\n",
       "    .dataframe thead th {\n",
       "        text-align: right;\n",
       "    }\n",
       "</style>\n",
       "<table border=\"1\" class=\"dataframe\">\n",
       "  <thead>\n",
       "    <tr style=\"text-align: right;\">\n",
       "      <th></th>\n",
       "      <th>0</th>\n",
       "      <th>1</th>\n",
       "      <th>2</th>\n",
       "      <th>3</th>\n",
       "      <th>4</th>\n",
       "      <th>5</th>\n",
       "      <th>6</th>\n",
       "      <th>7</th>\n",
       "      <th>8</th>\n",
       "      <th>9</th>\n",
       "      <th>...</th>\n",
       "      <th>4280</th>\n",
       "      <th>4281</th>\n",
       "      <th>4282</th>\n",
       "      <th>4283</th>\n",
       "      <th>4284</th>\n",
       "      <th>4285</th>\n",
       "      <th>4286</th>\n",
       "      <th>4287</th>\n",
       "      <th>4288</th>\n",
       "      <th>4289</th>\n",
       "    </tr>\n",
       "    <tr>\n",
       "      <th>result</th>\n",
       "      <th></th>\n",
       "      <th></th>\n",
       "      <th></th>\n",
       "      <th></th>\n",
       "      <th></th>\n",
       "      <th></th>\n",
       "      <th></th>\n",
       "      <th></th>\n",
       "      <th></th>\n",
       "      <th></th>\n",
       "      <th></th>\n",
       "      <th></th>\n",
       "      <th></th>\n",
       "      <th></th>\n",
       "      <th></th>\n",
       "      <th></th>\n",
       "      <th></th>\n",
       "      <th></th>\n",
       "      <th></th>\n",
       "      <th></th>\n",
       "      <th></th>\n",
       "    </tr>\n",
       "  </thead>\n",
       "  <tbody>\n",
       "    <tr>\n",
       "      <th>trend</th>\n",
       "      <td>NaN</td>\n",
       "      <td>NaN</td>\n",
       "      <td>NaN</td>\n",
       "      <td>NaN</td>\n",
       "      <td>NaN</td>\n",
       "      <td>NaN</td>\n",
       "      <td>NaN</td>\n",
       "      <td>NaN</td>\n",
       "      <td>NaN</td>\n",
       "      <td>NaN</td>\n",
       "      <td>...</td>\n",
       "      <td>NaN</td>\n",
       "      <td>NaN</td>\n",
       "      <td>NaN</td>\n",
       "      <td>NaN</td>\n",
       "      <td>NaN</td>\n",
       "      <td>NaN</td>\n",
       "      <td>NaN</td>\n",
       "      <td>NaN</td>\n",
       "      <td>NaN</td>\n",
       "      <td>NaN</td>\n",
       "    </tr>\n",
       "    <tr>\n",
       "      <th>h</th>\n",
       "      <td>NaN</td>\n",
       "      <td>NaN</td>\n",
       "      <td>NaN</td>\n",
       "      <td>NaN</td>\n",
       "      <td>NaN</td>\n",
       "      <td>NaN</td>\n",
       "      <td>NaN</td>\n",
       "      <td>NaN</td>\n",
       "      <td>NaN</td>\n",
       "      <td>NaN</td>\n",
       "      <td>...</td>\n",
       "      <td>NaN</td>\n",
       "      <td>NaN</td>\n",
       "      <td>NaN</td>\n",
       "      <td>NaN</td>\n",
       "      <td>NaN</td>\n",
       "      <td>NaN</td>\n",
       "      <td>NaN</td>\n",
       "      <td>NaN</td>\n",
       "      <td>NaN</td>\n",
       "      <td>NaN</td>\n",
       "    </tr>\n",
       "    <tr>\n",
       "      <th>p</th>\n",
       "      <td>NaN</td>\n",
       "      <td>NaN</td>\n",
       "      <td>NaN</td>\n",
       "      <td>NaN</td>\n",
       "      <td>NaN</td>\n",
       "      <td>NaN</td>\n",
       "      <td>NaN</td>\n",
       "      <td>NaN</td>\n",
       "      <td>NaN</td>\n",
       "      <td>NaN</td>\n",
       "      <td>...</td>\n",
       "      <td>NaN</td>\n",
       "      <td>NaN</td>\n",
       "      <td>NaN</td>\n",
       "      <td>NaN</td>\n",
       "      <td>NaN</td>\n",
       "      <td>NaN</td>\n",
       "      <td>NaN</td>\n",
       "      <td>NaN</td>\n",
       "      <td>NaN</td>\n",
       "      <td>NaN</td>\n",
       "    </tr>\n",
       "    <tr>\n",
       "      <th>z</th>\n",
       "      <td>NaN</td>\n",
       "      <td>NaN</td>\n",
       "      <td>NaN</td>\n",
       "      <td>NaN</td>\n",
       "      <td>NaN</td>\n",
       "      <td>NaN</td>\n",
       "      <td>NaN</td>\n",
       "      <td>NaN</td>\n",
       "      <td>NaN</td>\n",
       "      <td>NaN</td>\n",
       "      <td>...</td>\n",
       "      <td>NaN</td>\n",
       "      <td>NaN</td>\n",
       "      <td>NaN</td>\n",
       "      <td>NaN</td>\n",
       "      <td>NaN</td>\n",
       "      <td>NaN</td>\n",
       "      <td>NaN</td>\n",
       "      <td>NaN</td>\n",
       "      <td>NaN</td>\n",
       "      <td>NaN</td>\n",
       "    </tr>\n",
       "    <tr>\n",
       "      <th>Tau</th>\n",
       "      <td>NaN</td>\n",
       "      <td>NaN</td>\n",
       "      <td>NaN</td>\n",
       "      <td>NaN</td>\n",
       "      <td>NaN</td>\n",
       "      <td>NaN</td>\n",
       "      <td>NaN</td>\n",
       "      <td>NaN</td>\n",
       "      <td>NaN</td>\n",
       "      <td>NaN</td>\n",
       "      <td>...</td>\n",
       "      <td>NaN</td>\n",
       "      <td>NaN</td>\n",
       "      <td>NaN</td>\n",
       "      <td>NaN</td>\n",
       "      <td>NaN</td>\n",
       "      <td>NaN</td>\n",
       "      <td>NaN</td>\n",
       "      <td>NaN</td>\n",
       "      <td>NaN</td>\n",
       "      <td>NaN</td>\n",
       "    </tr>\n",
       "    <tr>\n",
       "      <th>s</th>\n",
       "      <td>NaN</td>\n",
       "      <td>NaN</td>\n",
       "      <td>NaN</td>\n",
       "      <td>NaN</td>\n",
       "      <td>NaN</td>\n",
       "      <td>NaN</td>\n",
       "      <td>NaN</td>\n",
       "      <td>NaN</td>\n",
       "      <td>NaN</td>\n",
       "      <td>NaN</td>\n",
       "      <td>...</td>\n",
       "      <td>NaN</td>\n",
       "      <td>NaN</td>\n",
       "      <td>NaN</td>\n",
       "      <td>NaN</td>\n",
       "      <td>NaN</td>\n",
       "      <td>NaN</td>\n",
       "      <td>NaN</td>\n",
       "      <td>NaN</td>\n",
       "      <td>NaN</td>\n",
       "      <td>NaN</td>\n",
       "    </tr>\n",
       "    <tr>\n",
       "      <th>var_s</th>\n",
       "      <td>NaN</td>\n",
       "      <td>NaN</td>\n",
       "      <td>NaN</td>\n",
       "      <td>NaN</td>\n",
       "      <td>NaN</td>\n",
       "      <td>NaN</td>\n",
       "      <td>NaN</td>\n",
       "      <td>NaN</td>\n",
       "      <td>NaN</td>\n",
       "      <td>NaN</td>\n",
       "      <td>...</td>\n",
       "      <td>NaN</td>\n",
       "      <td>NaN</td>\n",
       "      <td>NaN</td>\n",
       "      <td>NaN</td>\n",
       "      <td>NaN</td>\n",
       "      <td>NaN</td>\n",
       "      <td>NaN</td>\n",
       "      <td>NaN</td>\n",
       "      <td>NaN</td>\n",
       "      <td>NaN</td>\n",
       "    </tr>\n",
       "    <tr>\n",
       "      <th>slope</th>\n",
       "      <td>NaN</td>\n",
       "      <td>NaN</td>\n",
       "      <td>NaN</td>\n",
       "      <td>NaN</td>\n",
       "      <td>NaN</td>\n",
       "      <td>NaN</td>\n",
       "      <td>NaN</td>\n",
       "      <td>NaN</td>\n",
       "      <td>NaN</td>\n",
       "      <td>NaN</td>\n",
       "      <td>...</td>\n",
       "      <td>NaN</td>\n",
       "      <td>NaN</td>\n",
       "      <td>NaN</td>\n",
       "      <td>NaN</td>\n",
       "      <td>NaN</td>\n",
       "      <td>NaN</td>\n",
       "      <td>NaN</td>\n",
       "      <td>NaN</td>\n",
       "      <td>NaN</td>\n",
       "      <td>NaN</td>\n",
       "    </tr>\n",
       "    <tr>\n",
       "      <th>intercept</th>\n",
       "      <td>NaN</td>\n",
       "      <td>NaN</td>\n",
       "      <td>NaN</td>\n",
       "      <td>NaN</td>\n",
       "      <td>NaN</td>\n",
       "      <td>NaN</td>\n",
       "      <td>NaN</td>\n",
       "      <td>NaN</td>\n",
       "      <td>NaN</td>\n",
       "      <td>NaN</td>\n",
       "      <td>...</td>\n",
       "      <td>NaN</td>\n",
       "      <td>NaN</td>\n",
       "      <td>NaN</td>\n",
       "      <td>NaN</td>\n",
       "      <td>NaN</td>\n",
       "      <td>NaN</td>\n",
       "      <td>NaN</td>\n",
       "      <td>NaN</td>\n",
       "      <td>NaN</td>\n",
       "      <td>NaN</td>\n",
       "    </tr>\n",
       "  </tbody>\n",
       "</table>\n",
       "<p>9 rows × 4290 columns</p>\n",
       "</div>"
      ],
      "text/plain": [
       "           0     1     2     3     4     5     6     7     8     9     ...  \\\n",
       "result                                                                 ...   \n",
       "trend       NaN   NaN   NaN   NaN   NaN   NaN   NaN   NaN   NaN   NaN  ...   \n",
       "h           NaN   NaN   NaN   NaN   NaN   NaN   NaN   NaN   NaN   NaN  ...   \n",
       "p           NaN   NaN   NaN   NaN   NaN   NaN   NaN   NaN   NaN   NaN  ...   \n",
       "z           NaN   NaN   NaN   NaN   NaN   NaN   NaN   NaN   NaN   NaN  ...   \n",
       "Tau         NaN   NaN   NaN   NaN   NaN   NaN   NaN   NaN   NaN   NaN  ...   \n",
       "s           NaN   NaN   NaN   NaN   NaN   NaN   NaN   NaN   NaN   NaN  ...   \n",
       "var_s       NaN   NaN   NaN   NaN   NaN   NaN   NaN   NaN   NaN   NaN  ...   \n",
       "slope       NaN   NaN   NaN   NaN   NaN   NaN   NaN   NaN   NaN   NaN  ...   \n",
       "intercept   NaN   NaN   NaN   NaN   NaN   NaN   NaN   NaN   NaN   NaN  ...   \n",
       "\n",
       "           4280  4281  4282  4283  4284  4285  4286  4287  4288  4289  \n",
       "result                                                                 \n",
       "trend       NaN   NaN   NaN   NaN   NaN   NaN   NaN   NaN   NaN   NaN  \n",
       "h           NaN   NaN   NaN   NaN   NaN   NaN   NaN   NaN   NaN   NaN  \n",
       "p           NaN   NaN   NaN   NaN   NaN   NaN   NaN   NaN   NaN   NaN  \n",
       "z           NaN   NaN   NaN   NaN   NaN   NaN   NaN   NaN   NaN   NaN  \n",
       "Tau         NaN   NaN   NaN   NaN   NaN   NaN   NaN   NaN   NaN   NaN  \n",
       "s           NaN   NaN   NaN   NaN   NaN   NaN   NaN   NaN   NaN   NaN  \n",
       "var_s       NaN   NaN   NaN   NaN   NaN   NaN   NaN   NaN   NaN   NaN  \n",
       "slope       NaN   NaN   NaN   NaN   NaN   NaN   NaN   NaN   NaN   NaN  \n",
       "intercept   NaN   NaN   NaN   NaN   NaN   NaN   NaN   NaN   NaN   NaN  \n",
       "\n",
       "[9 rows x 4290 columns]"
      ]
     },
     "execution_count": 7,
     "metadata": {},
     "output_type": "execute_result"
    }
   ],
   "source": [
    "mmk_result =pd.DataFrame()\n",
    "for column in df:\n",
    "    values = round(df[column],3)\n",
    "    if np.all(str(np.max(values)) != str(np.min(values))):\n",
    "        [trend,h,p,z,Tau,s,var_s,slope,intercept]=mk.hamed_rao_modification_test(values, alpha=0.05)\n",
    "        output = [trend,h,p,z,Tau,s,var_s,slope,intercept]\n",
    "        \n",
    "        mmk_result[column] = output\n",
    "    else:\n",
    "        mmk_result[column] = [np.nan,np.nan,np.nan,np.nan,np.nan,np.nan,np.nan,np.nan,np.nan]\n",
    "        \n",
    "new_index = ['trend','h','p','z','Tau','s','var_s','slope','intercept']\n",
    "mmk_result['result'] = new_index\n",
    "mmk_result = mmk_result.set_index('result')\n",
    "mmk_result.head(10)\n"
   ]
  },
  {
   "cell_type": "code",
   "execution_count": 65,
   "id": "4ef2b9ab-23b4-4999-8499-6e66773c0d1c",
   "metadata": {},
   "outputs": [
    {
     "data": {
      "text/plain": [
       "(4290,)"
      ]
     },
     "execution_count": 65,
     "metadata": {},
     "output_type": "execute_result"
    }
   ],
   "source": [
    "LST_Slope = mmk_result.loc['slope']\n",
    "LST_Slope.shape"
   ]
  },
  {
   "cell_type": "code",
   "execution_count": 33,
   "id": "a064d7e6-9475-48e0-b656-135101b0b7cb",
   "metadata": {},
   "outputs": [
    {
     "data": {
      "text/plain": [
       "<AxesSubplot:>"
      ]
     },
     "execution_count": 33,
     "metadata": {},
     "output_type": "execute_result"
    },
    {
     "data": {
      "image/png": "[encoded data removed]",
      "text/plain": [
       "<Figure size 640x480 with 1 Axes>"
      ]
     },
     "metadata": {},
     "output_type": "display_data"
    }
   ],
   "source": [
    "LST_Slope.hist()"
   ]
  },
  {
   "cell_type": "code",
   "execution_count": 81,
   "id": "fd043863-b421-43f7-bedb-cb3abcfd12cf",
   "metadata": {},
   "outputs": [
    {
     "data": {
      "text/plain": [
       "<matplotlib.image.AxesImage at 0x17e3b06fc40>"
      ]
     },
     "execution_count": 81,
     "metadata": {},
     "output_type": "execute_result"
    },
    {
     "data": {
      "image/png": "[encoded data removed]",
      "text/plain": [
       "<Figure size 640x480 with 1 Axes>"
      ]
     },
     "metadata": {},
     "output_type": "display_data"
    }
   ],
   "source": [
    "%matplotlib inline\n",
    "slope_img = np.array(LST_Slope).reshape(test_file.shape )\n",
    "arr = np.round(slope_img.astype('float64'),3)\n",
    "plt.imshow( arr, cmap = 'rainbow' , interpolation = 'bilinear')\n"
   ]
  },
  {
   "cell_type": "code",
   "execution_count": 28,
   "id": "3ecbc364-57f1-4de8-8a8c-e93a668ede25",
   "metadata": {},
   "outputs": [
    {
     "data": {
      "text/plain": [
       "{'driver': 'GTiff', 'dtype': 'float64', 'nodata': None, 'width': 55, 'height': 78, 'count': 1, 'crs': CRS.from_epsg(4326), 'transform': Affine(0.008983152841195215, 0.0, 88.0618473022367,\n",
       "       0.0, -0.008983152841195215, 23.02382073198334), 'blockxsize': 256, 'blockysize': 256, 'tiled': True, 'compress': 'lzw', 'interleave': 'band'}"
      ]
     },
     "execution_count": 28,
     "metadata": {},
     "output_type": "execute_result"
    }
   ],
   "source": [
    "profile"
   ]
  },
  {
   "cell_type": "code",
   "execution_count": 83,
   "id": "bf4ebe44-2cab-400c-965d-9a0515e7b005",
   "metadata": {},
   "outputs": [],
   "source": [
    "os.chdir(\"E:/NIT_RKL/Other_Work/SUHI_sreoshi/Data/kolkata_LST_yearly_2000_03_01_to_2022_02_28/\")\n",
    "with rasterio.open('kolkata_LST_Slope.tif', 'w', **profile) as dst:\n",
    "    dst.write(np.round(arr,3), indexes=1)"
   ]
  },
  {
   "cell_type": "code",
   "execution_count": 84,
   "id": "81f48cfb-5533-43e1-bf31-368731c94a6d",
   "metadata": {},
   "outputs": [
    {
     "data": {
      "image/png": "[encoded data removed]",
      "text/plain": [
       "<Figure size 640x480 with 1 Axes>"
      ]
     },
     "metadata": {},
     "output_type": "display_data"
    },
    {
     "data": {
      "text/plain": [
       "<AxesSubplot:>"
      ]
     },
     "execution_count": 84,
     "metadata": {},
     "output_type": "execute_result"
    }
   ],
   "source": [
    "sample1 = rasterio.open('E:/NIT_RKL/Other_Work/SUHI_sreoshi/Data/kolkata_LST_yearly_2000_03_01_to_2022_02_28/kolkata_LST_Slope.tif')\n",
    "sample2 = sample1.read(1)\n",
    "show(sample1, cmap ='pink', adjust = True)"
   ]
  },
  {
   "cell_type": "code",
   "execution_count": 82,
   "id": "022c706e-f6ec-4c8a-83af-58e02173c35d",
   "metadata": {},
   "outputs": [
    {
     "data": {
      "text/plain": [
       "array([-0.015, -0.014, -0.012, -0.011, -0.01 , -0.008, -0.007, -0.005,\n",
       "       -0.004, -0.002, -0.001,  0.   ,  0.001,  0.003,  0.004,  0.005,\n",
       "        0.006,  0.007,  0.008,  0.009,  0.01 ,  0.011,  0.012,  0.013,\n",
       "        0.014,  0.015,  0.016,  0.017,  0.018,  0.019,  0.02 ,  0.021,\n",
       "        0.022,  0.023,  0.024,  0.025,  0.026,  0.027,  0.028,  0.029,\n",
       "        0.03 ,  0.031,  0.032,  0.033,  0.034,  0.035,  0.036,  0.037,\n",
       "        0.038,  0.039,  0.04 ,  0.041,  0.042,  0.043,  0.044,  0.045,\n",
       "        0.046,  0.047,  0.048,  0.049,  0.05 ,  0.051,  0.052,  0.053,\n",
       "        0.054,  0.055,  0.056,  0.057,  0.058,  0.059,  0.06 ,  0.061,\n",
       "        0.062,  0.063,  0.064,  0.065,  0.066,  0.067,  0.068,  0.069,\n",
       "        0.07 ,  0.071,  0.072,  0.073,  0.074,  0.075,  0.076,  0.077,\n",
       "        0.078,  0.079,  0.08 ,  0.081,  0.082,  0.083,  0.084,  0.085,\n",
       "        0.086,  0.087,  0.088,  0.089,  0.09 ,  0.091,  0.092,  0.093,\n",
       "        0.094,  0.095,  0.096,  0.097,  0.098,  0.099,  0.1  ,  0.101,\n",
       "        0.102,  0.103,  0.104,  0.105,  0.106,  0.107,  0.108,  0.109,\n",
       "        0.11 ,  0.111,  0.112,  0.113,  0.114,  0.115,  0.116,  0.117,\n",
       "        0.118,  0.119,  0.12 ,  0.122,  0.123,  0.125,  0.126,  0.127,\n",
       "        0.128,  0.129,  0.133,  0.135,  0.137,  0.138,  0.139,  0.14 ,\n",
       "        0.142,  0.143,  0.145,  0.154,  0.155,  0.157,  0.158,  0.167,\n",
       "        0.171,  0.172,  0.173,  0.177,  0.189,  0.211,    nan])"
      ]
     },
     "execution_count": 82,
     "metadata": {},
     "output_type": "execute_result"
    }
   ],
   "source": [
    "np.unique(arr)"
   ]
  },
  {
   "cell_type": "code",
   "execution_count": null,
   "id": "085a39df-9220-4532-bc2b-2b120f2933ec",
   "metadata": {},
   "outputs": [],
   "source": []
  }
 ],
 "metadata": {
  "kernelspec": {
   "display_name": "Python 3 (ipykernel)",
   "language": "python",
   "name": "python3"
  },
  "language_info": {
   "codemirror_mode": {
    "name": "ipython",
    "version": 3
   },
   "file_extension": ".py",
   "mimetype": "text/x-python",
   "name": "python",
   "nbconvert_exporter": "python",
   "pygments_lexer": "ipython3",
   "version": "3.10.6"
  }
 },
 "nbformat": 4,
 "nbformat_minor": 5
}
